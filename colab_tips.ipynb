{
  "nbformat": 4,
  "nbformat_minor": 0,
  "metadata": {
    "colab": {
      "provenance": [],
      "toc_visible": true
    },
    "kernelspec": {
      "name": "python3",
      "display_name": "Python 3"
    },
    "language_info": {
      "name": "python"
    }
  },
  "cells": [
    {
      "cell_type": "markdown",
      "source": [
        "## Tips & Tricks for google colab"
      ],
      "metadata": {
        "id": "yw4RMZGkT7kB"
      }
    },
    {
      "cell_type": "markdown",
      "source": [
        "### Using GPU in your experiments\n",
        "\n",
        "When training large models we use GPUs to accelerate training. Google colab offers free access to GPUs that you can use to run your experiments:\n",
        "\n",
        "1. Click on Runtime\n",
        "2. Change runtime type\n",
        "3. Swap from CPU to T4 GPU\n",
        "\n",
        "**Google Colab has limits to how much you can use a GPU machine. DO NOT WASTE IT BY SITTING ON AN IDLE SESSION OR DEBUGGING, AS IN THE NEXT TIME YOU TRY TO ACCESS A GPU YOU MAY NOT BE ALLOWED TO. DEVELOP AND DEBUG YOUR MODEL LOCALLY OR ON A CPU BEFORE USING A GPU**\n",
        "\n"
      ],
      "metadata": {
        "id": "cjBw0uWDQnlt"
      }
    },
    {
      "cell_type": "markdown",
      "source": [
        "### Managing files that were produced while a colab session was running\n",
        "\n",
        "**THE FILES THAT ARE PRODUCED DURING A SESSION DO ARE REMOVED**\n",
        "\n",
        "You have two options to save the checkpoints from a google colab:\n",
        "\n",
        "\n",
        "1. You can upload and host the models on a private repo on [Hugging Face](https://huggingface.co/docs/huggingface_hub/en/guides/upload). You can set this up after each run is over so that you do not need to do it manually afterwards\n",
        "\n",
        "2. You can download any file that you want manually by clicking on the file icon from the left taskbar, hover over the file that you want to download, then click on the three dots and select download."
      ],
      "metadata": {
        "id": "uT1FNwvTQrrp"
      }
    },
    {
      "cell_type": "markdown",
      "source": [
        "### Some useful commands\n",
        "\n",
        "Within google colab you can use linux-like commands (you will only need to use the ! symbol before each command)"
      ],
      "metadata": {
        "id": "nZ-6DDtvPgwg"
      }
    },
    {
      "cell_type": "code",
      "source": [
        "# Show the files within the current directory\n",
        "!ls\n",
        "# Copy stuff\n",
        "!cp sample_data/mnist_test.csv test.csv\n",
        "!ls\n",
        "# Move stuff\n",
        "!mv test.csv test_moved.csv\n",
        "# Remove stuff\n",
        "!rm test_moved.csv"
      ],
      "metadata": {
        "colab": {
          "base_uri": "https://localhost:8080/"
        },
        "id": "0XAKeL62PvRs",
        "outputId": "6e3f83f7-d6b3-46f2-ef93-de4f17b77339"
      },
      "execution_count": 6,
      "outputs": [
        {
          "output_type": "stream",
          "name": "stdout",
          "text": [
            "labs_2025_2026-students  sample_data  test.csv\n",
            "labs_2025_2026-students  sample_data  test.csv\n"
          ]
        }
      ]
    },
    {
      "cell_type": "code",
      "source": [
        "# Changing directory is a bit trickier as the !cd command does not exactly work\n",
        "# Use this and replace the path with the path that you want to swap directory\n",
        "import os\n",
        "os.chdir(\"/content/labs_2025_2026-students/\")"
      ],
      "metadata": {
        "id": "TsneQ6a9QAKD"
      },
      "execution_count": null,
      "outputs": []
    },
    {
      "cell_type": "code",
      "source": [
        "# You can also run python scripts!\n",
        "# !python my_script.py --arg1 value1 --arg2 value2"
      ],
      "metadata": {
        "id": "By9pUqDKSzPL"
      },
      "execution_count": null,
      "outputs": []
    },
    {
      "cell_type": "markdown",
      "source": [
        "### Uploading your code to the google colab:"
      ],
      "metadata": {
        "id": "G5Gu5WB6PL66"
      }
    },
    {
      "cell_type": "markdown",
      "source": [
        "#### Option 1: fork the repo\n",
        "\n",
        "[Fork](https://docs.github.com/en/pull-requests/collaborating-with-pull-requests/working-with-forks/fork-a-repo) the repo and create a copy within your github account. This is recomended option as you can push and track any changes that you make in the codebase which is particularly useful especially when working in a group. Also you will not need to re-upload the code manually."
      ],
      "metadata": {
        "id": "6yQYiOcXN8MC"
      }
    },
    {
      "cell_type": "code",
      "source": [
        "# Replace the url with your own\n",
        "!git clone https://github.com/f21nl-heriot-watt/labs_2025_2026-students"
      ],
      "metadata": {
        "colab": {
          "base_uri": "https://localhost:8080/"
        },
        "id": "dnF-ccF8Okpd",
        "outputId": "c84a800c-298b-40f7-a995-48b62984d2f6"
      },
      "execution_count": 1,
      "outputs": [
        {
          "output_type": "stream",
          "name": "stdout",
          "text": [
            "Cloning into 'labs_2025_2026-students'...\n",
            "remote: Enumerating objects: 128, done.\u001b[K\n",
            "remote: Counting objects: 100% (7/7), done.\u001b[K\n",
            "remote: Compressing objects: 100% (3/3), done.\u001b[K\n",
            "remote: Total 128 (delta 4), reused 4 (delta 4), pack-reused 121 (from 1)\u001b[K\n",
            "Receiving objects: 100% (128/128), 1.38 MiB | 13.54 MiB/s, done.\n",
            "Resolving deltas: 100% (52/52), done.\n"
          ]
        }
      ]
    },
    {
      "cell_type": "markdown",
      "source": [
        "#### Option 2: manual download/upload\n",
        "\n",
        "Download the codebase from github locally and then upload it on colab:\n",
        "\n",
        "1. First, go to the github repo then hit the `<> code>` button to download the repo as a zip file.\n",
        "2. In the colab notebook, click file icon from the left taskbar below the key. Then use the upload functionality to upload the zip file\n",
        "3. Unzip the file like this:"
      ],
      "metadata": {
        "id": "V1tcpED-MQr-"
      }
    },
    {
      "cell_type": "code",
      "source": [
        "# Change the name of the zip file to your zip\n",
        "!unzip cw2_2025_2026-main.zip"
      ],
      "metadata": {
        "id": "SfiE5ymXM3YM"
      },
      "execution_count": null,
      "outputs": []
    },
    {
      "cell_type": "markdown",
      "source": [
        "### Installing requirements from the repo\n",
        "\n",
        "Assuming you have the repo ready to go on google colab always install the packages that we have provided from the requirements file"
      ],
      "metadata": {
        "id": "Mi6Vw-qJSoVI"
      }
    }
  ]
}